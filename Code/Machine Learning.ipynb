{
 "cells": [
  {
   "cell_type": "markdown",
   "metadata": {},
   "source": [
    "<H1 align='center'>Machine Learning</H1>"
   ]
  },
  {
   "cell_type": "markdown",
   "metadata": {},
   "source": [
    "<H3>Imports</H3>"
   ]
  },
  {
   "cell_type": "code",
   "execution_count": 475,
   "metadata": {
    "collapsed": true
   },
   "outputs": [],
   "source": [
    "import pandas as pd\n",
    "import numpy as np\n",
    "import seaborn as sns\n",
    "from sklearn.model_selection import GridSearchCV\n",
    "from sklearn.metrics import explained_variance_score\n",
    "from sklearn.linear_model import SGDRegressor\n",
    "from statsmodels.graphics.regressionplots import influence_plot\n",
    "from statsmodels.graphics.gofplots import qqplot\n",
    "from statsmodels.formula.api import ols\n",
    "from sklearn.model_selection import train_test_split\n",
    "from statsmodels.stats.outliers_influence import variance_inflation_factor \n",
    "import matplotlib.pyplot as plt\n",
    "from sklearn.pipeline import Pipeline\n",
    "from sklearn.feature_selection import SelectKBest\n",
    "from sklearn.linear_model import LinearRegression\n",
    "from sklearn.feature_selection import f_regression\n",
    "from sklearn.metrics import r2_score\n",
    "from sklearn.metrics import mean_squared_error\n",
    "import warnings"
   ]
  },
  {
   "cell_type": "code",
   "execution_count": 476,
   "metadata": {
    "collapsed": true
   },
   "outputs": [],
   "source": [
    "warnings.filterwarnings('ignore')"
   ]
  },
  {
   "cell_type": "markdown",
   "metadata": {},
   "source": [
    "<H3>Read CSV</H3>"
   ]
  },
  {
   "cell_type": "code",
   "execution_count": 413,
   "metadata": {
    "collapsed": true
   },
   "outputs": [],
   "source": [
    "df = pd.read_csv('../Data/hour.csv')\n",
    "\n",
    "df = df.drop('instant', axis=1)\n",
    "df = df.drop('dteday', axis=1)"
   ]
  },
  {
   "cell_type": "code",
   "execution_count": 414,
   "metadata": {},
   "outputs": [
    {
     "name": "stdout",
     "output_type": "stream",
     "text": [
      "<class 'pandas.core.frame.DataFrame'>\n",
      "RangeIndex: 17379 entries, 0 to 17378\n",
      "Data columns (total 15 columns):\n",
      "season        17379 non-null int64\n",
      "yr            17379 non-null int64\n",
      "mnth          17379 non-null int64\n",
      "hr            17379 non-null int64\n",
      "holiday       17379 non-null int64\n",
      "weekday       17379 non-null int64\n",
      "workingday    17379 non-null int64\n",
      "weathersit    17379 non-null int64\n",
      "temp          17379 non-null float64\n",
      "atemp         17379 non-null float64\n",
      "hum           17379 non-null float64\n",
      "windspeed     17379 non-null float64\n",
      "casual        17379 non-null int64\n",
      "registered    17379 non-null int64\n",
      "cnt           17379 non-null int64\n",
      "dtypes: float64(4), int64(11)\n",
      "memory usage: 2.0 MB\n"
     ]
    }
   ],
   "source": [
    "df.info()"
   ]
  },
  {
   "cell_type": "markdown",
   "metadata": {},
   "source": [
    "<H3>Prepare Dataframe for machine learning by turning categorical values into seperate columns</H3>"
   ]
  },
  {
   "cell_type": "code",
   "execution_count": 415,
   "metadata": {
    "collapsed": true
   },
   "outputs": [],
   "source": [
    "for season in df.season.unique():\n",
    "    df['season_'+str(season)] = (df['season']==season)\n",
    "    \n",
    "df = df.drop('season', axis=1)\n",
    "\n",
    "\n",
    "for mnth in df.mnth.unique():\n",
    "    df['mnth_'+str(mnth)] = (df['mnth']==mnth)\n",
    "    \n",
    "df = df.drop('mnth', axis=1)\n",
    "\n",
    "\n",
    "for weekday in df.weekday.unique():\n",
    "    df['weekday_'+str(weekday)] = (df['weekday']== weekday)\n",
    "    \n",
    "df = df.drop('weekday', axis = 1)\n",
    "\n",
    "\n",
    "for weathersit in df.weathersit.unique():\n",
    "    df['weathersit_'+str(weathersit)] = (df['weathersit']== weathersit)\n",
    "    \n",
    "df = df.drop('weathersit', axis=1)\n",
    "\n",
    "\n",
    "for hr in df.hr.unique():\n",
    "    df['hr_'+str(hr)] = (df['hr'] == hr)\n",
    "    \n",
    "df = df.drop('hr', axis = 1)\n",
    "\n",
    "df['outcome'] = df['cnt']\n",
    "df['casual_users'] = df['casual']\n",
    "df['registered_users'] = df['registered']\n",
    "df = df.drop(['cnt', 'casual', 'registered'], axis = 1)"
   ]
  },
  {
   "cell_type": "code",
   "execution_count": 416,
   "metadata": {},
   "outputs": [
    {
     "name": "stdout",
     "output_type": "stream",
     "text": [
      "<class 'pandas.core.frame.DataFrame'>\n",
      "RangeIndex: 17379 entries, 0 to 17378\n",
      "Data columns (total 61 columns):\n",
      "yr                  17379 non-null int64\n",
      "holiday             17379 non-null int64\n",
      "workingday          17379 non-null int64\n",
      "temp                17379 non-null float64\n",
      "atemp               17379 non-null float64\n",
      "hum                 17379 non-null float64\n",
      "windspeed           17379 non-null float64\n",
      "season_1            17379 non-null bool\n",
      "season_2            17379 non-null bool\n",
      "season_3            17379 non-null bool\n",
      "season_4            17379 non-null bool\n",
      "mnth_1              17379 non-null bool\n",
      "mnth_2              17379 non-null bool\n",
      "mnth_3              17379 non-null bool\n",
      "mnth_4              17379 non-null bool\n",
      "mnth_5              17379 non-null bool\n",
      "mnth_6              17379 non-null bool\n",
      "mnth_7              17379 non-null bool\n",
      "mnth_8              17379 non-null bool\n",
      "mnth_9              17379 non-null bool\n",
      "mnth_10             17379 non-null bool\n",
      "mnth_11             17379 non-null bool\n",
      "mnth_12             17379 non-null bool\n",
      "weekday_6           17379 non-null bool\n",
      "weekday_0           17379 non-null bool\n",
      "weekday_1           17379 non-null bool\n",
      "weekday_2           17379 non-null bool\n",
      "weekday_3           17379 non-null bool\n",
      "weekday_4           17379 non-null bool\n",
      "weekday_5           17379 non-null bool\n",
      "weathersit_1        17379 non-null bool\n",
      "weathersit_2        17379 non-null bool\n",
      "weathersit_3        17379 non-null bool\n",
      "weathersit_4        17379 non-null bool\n",
      "hr_0                17379 non-null bool\n",
      "hr_1                17379 non-null bool\n",
      "hr_2                17379 non-null bool\n",
      "hr_3                17379 non-null bool\n",
      "hr_4                17379 non-null bool\n",
      "hr_5                17379 non-null bool\n",
      "hr_6                17379 non-null bool\n",
      "hr_7                17379 non-null bool\n",
      "hr_8                17379 non-null bool\n",
      "hr_9                17379 non-null bool\n",
      "hr_10               17379 non-null bool\n",
      "hr_11               17379 non-null bool\n",
      "hr_12               17379 non-null bool\n",
      "hr_13               17379 non-null bool\n",
      "hr_14               17379 non-null bool\n",
      "hr_15               17379 non-null bool\n",
      "hr_16               17379 non-null bool\n",
      "hr_17               17379 non-null bool\n",
      "hr_18               17379 non-null bool\n",
      "hr_19               17379 non-null bool\n",
      "hr_20               17379 non-null bool\n",
      "hr_21               17379 non-null bool\n",
      "hr_22               17379 non-null bool\n",
      "hr_23               17379 non-null bool\n",
      "outcome             17379 non-null int64\n",
      "casual_users        17379 non-null int64\n",
      "registered_users    17379 non-null int64\n",
      "dtypes: bool(51), float64(4), int64(6)\n",
      "memory usage: 2.2 MB\n"
     ]
    }
   ],
   "source": [
    "df.info()"
   ]
  },
  {
   "cell_type": "markdown",
   "metadata": {},
   "source": [
    "<H3>Multicollinearity Analysis</H3>"
   ]
  },
  {
   "cell_type": "code",
   "execution_count": 429,
   "metadata": {},
   "outputs": [
    {
     "data": {
      "text/plain": [
       "array([[0, 0, 0, ..., False, False, False],\n",
       "       [0, 0, 0, ..., False, False, False],\n",
       "       [0, 0, 0, ..., False, False, False],\n",
       "       ..., \n",
       "       [1, 0, 1, ..., True, False, False],\n",
       "       [1, 0, 1, ..., False, True, False],\n",
       "       [1, 0, 1, ..., False, False, True]], dtype=object)"
      ]
     },
     "execution_count": 429,
     "metadata": {},
     "output_type": "execute_result"
    }
   ],
   "source": [
    "variance_inflation_factor(X.values, 0)"
   ]
  },
  {
   "cell_type": "code",
   "execution_count": 438,
   "metadata": {},
   "outputs": [
    {
     "name": "stderr",
     "output_type": "stream",
     "text": [
      "/Users/preethi.john/anaconda3/lib/python3.6/site-packages/statsmodels/stats/outliers_influence.py:167: RuntimeWarning: divide by zero encountered in double_scalars\n",
      "  vif = 1. / (1. - r_squared_i)\n"
     ]
    }
   ],
   "source": [
    "X=df.iloc[:,:-3]\n",
    "vif = pd.DataFrame()\n",
    "vif[\"VIF_Factor\"] = [variance_inflation_factor(X.values.astype(float), i) for i in range(X.shape[1])]\n",
    "vif[\"col\"] = df.columns[:-3]\n",
    "vif = vif.drop(vif[vif['VIF_Factor']==np.inf].index, axis=0)"
   ]
  },
  {
   "cell_type": "markdown",
   "metadata": {},
   "source": [
    "<H3>We can see high multricollinearity between temp and atemp. We will delete temp from the dataframe and proceed.</H3>"
   ]
  },
  {
   "cell_type": "code",
   "execution_count": 439,
   "metadata": {},
   "outputs": [
    {
     "data": {
      "text/html": [
       "<div>\n",
       "<style>\n",
       "    .dataframe thead tr:only-child th {\n",
       "        text-align: right;\n",
       "    }\n",
       "\n",
       "    .dataframe thead th {\n",
       "        text-align: left;\n",
       "    }\n",
       "\n",
       "    .dataframe tbody tr th {\n",
       "        vertical-align: top;\n",
       "    }\n",
       "</style>\n",
       "<table border=\"1\" class=\"dataframe\">\n",
       "  <thead>\n",
       "    <tr style=\"text-align: right;\">\n",
       "      <th></th>\n",
       "      <th>VIF_Factor</th>\n",
       "      <th>col</th>\n",
       "    </tr>\n",
       "  </thead>\n",
       "  <tbody>\n",
       "    <tr>\n",
       "      <th>0</th>\n",
       "      <td>1.025491</td>\n",
       "      <td>yr</td>\n",
       "    </tr>\n",
       "    <tr>\n",
       "      <th>3</th>\n",
       "      <td>54.224994</td>\n",
       "      <td>temp</td>\n",
       "    </tr>\n",
       "    <tr>\n",
       "      <th>4</th>\n",
       "      <td>46.501555</td>\n",
       "      <td>atemp</td>\n",
       "    </tr>\n",
       "    <tr>\n",
       "      <th>5</th>\n",
       "      <td>1.927632</td>\n",
       "      <td>hum</td>\n",
       "    </tr>\n",
       "    <tr>\n",
       "      <th>6</th>\n",
       "      <td>1.249705</td>\n",
       "      <td>windspeed</td>\n",
       "    </tr>\n",
       "  </tbody>\n",
       "</table>\n",
       "</div>"
      ],
      "text/plain": [
       "   VIF_Factor        col\n",
       "0    1.025491         yr\n",
       "3   54.224994       temp\n",
       "4   46.501555      atemp\n",
       "5    1.927632        hum\n",
       "6    1.249705  windspeed"
      ]
     },
     "execution_count": 439,
     "metadata": {},
     "output_type": "execute_result"
    }
   ],
   "source": [
    "vif"
   ]
  },
  {
   "cell_type": "code",
   "execution_count": 440,
   "metadata": {
    "collapsed": true
   },
   "outputs": [],
   "source": [
    "df = df.drop('temp', axis=1)"
   ]
  },
  {
   "cell_type": "markdown",
   "metadata": {},
   "source": [
    "<H3>Split Training Data And Test Data(70/30)</H3>"
   ]
  },
  {
   "cell_type": "code",
   "execution_count": 441,
   "metadata": {
    "collapsed": true
   },
   "outputs": [],
   "source": [
    "Xs = np.array(df.iloc[:,:-3], dtype='f')\n",
    "ys =  np.array(df.iloc[:,-3:], dtype='f')\n",
    "\n",
    "X_train, X_test,y_train,  y_test = train_test_split(Xs,ys, test_size=0.3, random_state=21)"
   ]
  },
  {
   "cell_type": "markdown",
   "metadata": {},
   "source": [
    "<H3>Create New Dataframe With Training Data</H3>"
   ]
  },
  {
   "cell_type": "code",
   "execution_count": 442,
   "metadata": {
    "collapsed": true
   },
   "outputs": [],
   "source": [
    "df_train = pd.DataFrame(X_train)\n",
    "df_train['total_shares'] = pd.Series(y_train[:,0])\n",
    "df_train['registered_shares'] = pd.Series(y_train[:,2])\n",
    "df_train['casual_shares'] = pd.Series(y_train[:,1])\n",
    "\n",
    "cols = list(df.columns[:-3])\n",
    "\n",
    "cols = cols + ['total_shares', 'registered_shares', 'casual_shares']\n",
    "\n",
    "df_train.columns = cols"
   ]
  },
  {
   "cell_type": "code",
   "execution_count": 443,
   "metadata": {},
   "outputs": [
    {
     "data": {
      "text/html": [
       "<div>\n",
       "<style>\n",
       "    .dataframe thead tr:only-child th {\n",
       "        text-align: right;\n",
       "    }\n",
       "\n",
       "    .dataframe thead th {\n",
       "        text-align: left;\n",
       "    }\n",
       "\n",
       "    .dataframe tbody tr th {\n",
       "        vertical-align: top;\n",
       "    }\n",
       "</style>\n",
       "<table border=\"1\" class=\"dataframe\">\n",
       "  <thead>\n",
       "    <tr style=\"text-align: right;\">\n",
       "      <th></th>\n",
       "      <th>yr</th>\n",
       "      <th>holiday</th>\n",
       "      <th>workingday</th>\n",
       "      <th>atemp</th>\n",
       "      <th>hum</th>\n",
       "      <th>windspeed</th>\n",
       "      <th>season_1</th>\n",
       "      <th>season_2</th>\n",
       "      <th>season_3</th>\n",
       "      <th>season_4</th>\n",
       "      <th>...</th>\n",
       "      <th>hr_17</th>\n",
       "      <th>hr_18</th>\n",
       "      <th>hr_19</th>\n",
       "      <th>hr_20</th>\n",
       "      <th>hr_21</th>\n",
       "      <th>hr_22</th>\n",
       "      <th>hr_23</th>\n",
       "      <th>total_shares</th>\n",
       "      <th>registered_shares</th>\n",
       "      <th>casual_shares</th>\n",
       "    </tr>\n",
       "  </thead>\n",
       "  <tbody>\n",
       "    <tr>\n",
       "      <th>0</th>\n",
       "      <td>1.0</td>\n",
       "      <td>0.0</td>\n",
       "      <td>1.0</td>\n",
       "      <td>0.8788</td>\n",
       "      <td>0.40</td>\n",
       "      <td>0.3582</td>\n",
       "      <td>0.0</td>\n",
       "      <td>0.0</td>\n",
       "      <td>1.0</td>\n",
       "      <td>0.0</td>\n",
       "      <td>...</td>\n",
       "      <td>0.0</td>\n",
       "      <td>1.0</td>\n",
       "      <td>0.0</td>\n",
       "      <td>0.0</td>\n",
       "      <td>0.0</td>\n",
       "      <td>0.0</td>\n",
       "      <td>0.0</td>\n",
       "      <td>688.0</td>\n",
       "      <td>615.0</td>\n",
       "      <td>73.0</td>\n",
       "    </tr>\n",
       "    <tr>\n",
       "      <th>1</th>\n",
       "      <td>1.0</td>\n",
       "      <td>0.0</td>\n",
       "      <td>1.0</td>\n",
       "      <td>0.6212</td>\n",
       "      <td>0.61</td>\n",
       "      <td>0.2537</td>\n",
       "      <td>0.0</td>\n",
       "      <td>0.0</td>\n",
       "      <td>0.0</td>\n",
       "      <td>1.0</td>\n",
       "      <td>...</td>\n",
       "      <td>0.0</td>\n",
       "      <td>0.0</td>\n",
       "      <td>0.0</td>\n",
       "      <td>0.0</td>\n",
       "      <td>0.0</td>\n",
       "      <td>0.0</td>\n",
       "      <td>0.0</td>\n",
       "      <td>227.0</td>\n",
       "      <td>181.0</td>\n",
       "      <td>46.0</td>\n",
       "    </tr>\n",
       "    <tr>\n",
       "      <th>2</th>\n",
       "      <td>0.0</td>\n",
       "      <td>0.0</td>\n",
       "      <td>1.0</td>\n",
       "      <td>0.5000</td>\n",
       "      <td>0.48</td>\n",
       "      <td>0.1045</td>\n",
       "      <td>0.0</td>\n",
       "      <td>1.0</td>\n",
       "      <td>0.0</td>\n",
       "      <td>0.0</td>\n",
       "      <td>...</td>\n",
       "      <td>0.0</td>\n",
       "      <td>0.0</td>\n",
       "      <td>0.0</td>\n",
       "      <td>0.0</td>\n",
       "      <td>0.0</td>\n",
       "      <td>0.0</td>\n",
       "      <td>0.0</td>\n",
       "      <td>205.0</td>\n",
       "      <td>176.0</td>\n",
       "      <td>29.0</td>\n",
       "    </tr>\n",
       "    <tr>\n",
       "      <th>3</th>\n",
       "      <td>0.0</td>\n",
       "      <td>0.0</td>\n",
       "      <td>0.0</td>\n",
       "      <td>0.2879</td>\n",
       "      <td>0.75</td>\n",
       "      <td>0.0000</td>\n",
       "      <td>1.0</td>\n",
       "      <td>0.0</td>\n",
       "      <td>0.0</td>\n",
       "      <td>0.0</td>\n",
       "      <td>...</td>\n",
       "      <td>0.0</td>\n",
       "      <td>0.0</td>\n",
       "      <td>0.0</td>\n",
       "      <td>0.0</td>\n",
       "      <td>0.0</td>\n",
       "      <td>0.0</td>\n",
       "      <td>0.0</td>\n",
       "      <td>13.0</td>\n",
       "      <td>10.0</td>\n",
       "      <td>3.0</td>\n",
       "    </tr>\n",
       "    <tr>\n",
       "      <th>4</th>\n",
       "      <td>0.0</td>\n",
       "      <td>1.0</td>\n",
       "      <td>0.0</td>\n",
       "      <td>0.3939</td>\n",
       "      <td>0.37</td>\n",
       "      <td>0.4627</td>\n",
       "      <td>0.0</td>\n",
       "      <td>0.0</td>\n",
       "      <td>0.0</td>\n",
       "      <td>1.0</td>\n",
       "      <td>...</td>\n",
       "      <td>0.0</td>\n",
       "      <td>0.0</td>\n",
       "      <td>0.0</td>\n",
       "      <td>0.0</td>\n",
       "      <td>0.0</td>\n",
       "      <td>0.0</td>\n",
       "      <td>0.0</td>\n",
       "      <td>247.0</td>\n",
       "      <td>183.0</td>\n",
       "      <td>64.0</td>\n",
       "    </tr>\n",
       "  </tbody>\n",
       "</table>\n",
       "<p>5 rows × 60 columns</p>\n",
       "</div>"
      ],
      "text/plain": [
       "    yr  holiday  workingday   atemp   hum  windspeed  season_1  season_2  \\\n",
       "0  1.0      0.0         1.0  0.8788  0.40     0.3582       0.0       0.0   \n",
       "1  1.0      0.0         1.0  0.6212  0.61     0.2537       0.0       0.0   \n",
       "2  0.0      0.0         1.0  0.5000  0.48     0.1045       0.0       1.0   \n",
       "3  0.0      0.0         0.0  0.2879  0.75     0.0000       1.0       0.0   \n",
       "4  0.0      1.0         0.0  0.3939  0.37     0.4627       0.0       0.0   \n",
       "\n",
       "   season_3  season_4      ...        hr_17  hr_18  hr_19  hr_20  hr_21  \\\n",
       "0       1.0       0.0      ...          0.0    1.0    0.0    0.0    0.0   \n",
       "1       0.0       1.0      ...          0.0    0.0    0.0    0.0    0.0   \n",
       "2       0.0       0.0      ...          0.0    0.0    0.0    0.0    0.0   \n",
       "3       0.0       0.0      ...          0.0    0.0    0.0    0.0    0.0   \n",
       "4       0.0       1.0      ...          0.0    0.0    0.0    0.0    0.0   \n",
       "\n",
       "   hr_22  hr_23  total_shares  registered_shares  casual_shares  \n",
       "0    0.0    0.0         688.0              615.0           73.0  \n",
       "1    0.0    0.0         227.0              181.0           46.0  \n",
       "2    0.0    0.0         205.0              176.0           29.0  \n",
       "3    0.0    0.0          13.0               10.0            3.0  \n",
       "4    0.0    0.0         247.0              183.0           64.0  \n",
       "\n",
       "[5 rows x 60 columns]"
      ]
     },
     "execution_count": 443,
     "metadata": {},
     "output_type": "execute_result"
    }
   ],
   "source": [
    "df_train.head()"
   ]
  },
  {
   "cell_type": "code",
   "execution_count": 444,
   "metadata": {
    "collapsed": true
   },
   "outputs": [],
   "source": [
    "df_test = pd.DataFrame(X_test)\n",
    "df_test['total_shares'] = pd.Series(y_test[:,0])\n",
    "df_test['registered_shares'] = pd.Series(y_test[:,2])\n",
    "df_test['casual_shares'] = pd.Series(y_test[:,1])\n",
    "cols = list(df.columns[:-3])\n",
    "\n",
    "cols = cols + ['total_shares', 'registered_shares', 'casual_shares']\n",
    "\n",
    "df_test.columns = cols"
   ]
  },
  {
   "cell_type": "code",
   "execution_count": 445,
   "metadata": {},
   "outputs": [
    {
     "data": {
      "text/html": [
       "<div>\n",
       "<style>\n",
       "    .dataframe thead tr:only-child th {\n",
       "        text-align: right;\n",
       "    }\n",
       "\n",
       "    .dataframe thead th {\n",
       "        text-align: left;\n",
       "    }\n",
       "\n",
       "    .dataframe tbody tr th {\n",
       "        vertical-align: top;\n",
       "    }\n",
       "</style>\n",
       "<table border=\"1\" class=\"dataframe\">\n",
       "  <thead>\n",
       "    <tr style=\"text-align: right;\">\n",
       "      <th></th>\n",
       "      <th>yr</th>\n",
       "      <th>holiday</th>\n",
       "      <th>workingday</th>\n",
       "      <th>atemp</th>\n",
       "      <th>hum</th>\n",
       "      <th>windspeed</th>\n",
       "      <th>season_1</th>\n",
       "      <th>season_2</th>\n",
       "      <th>season_3</th>\n",
       "      <th>season_4</th>\n",
       "      <th>...</th>\n",
       "      <th>hr_17</th>\n",
       "      <th>hr_18</th>\n",
       "      <th>hr_19</th>\n",
       "      <th>hr_20</th>\n",
       "      <th>hr_21</th>\n",
       "      <th>hr_22</th>\n",
       "      <th>hr_23</th>\n",
       "      <th>total_shares</th>\n",
       "      <th>registered_shares</th>\n",
       "      <th>casual_shares</th>\n",
       "    </tr>\n",
       "  </thead>\n",
       "  <tbody>\n",
       "    <tr>\n",
       "      <th>0</th>\n",
       "      <td>0.0</td>\n",
       "      <td>0.0</td>\n",
       "      <td>1.0</td>\n",
       "      <td>0.1515</td>\n",
       "      <td>0.86</td>\n",
       "      <td>0.1642</td>\n",
       "      <td>1.0</td>\n",
       "      <td>0.0</td>\n",
       "      <td>0.0</td>\n",
       "      <td>0.0</td>\n",
       "      <td>...</td>\n",
       "      <td>0.0</td>\n",
       "      <td>0.0</td>\n",
       "      <td>0.0</td>\n",
       "      <td>0.0</td>\n",
       "      <td>0.0</td>\n",
       "      <td>0.0</td>\n",
       "      <td>0.0</td>\n",
       "      <td>5.0</td>\n",
       "      <td>5.0</td>\n",
       "      <td>0.0</td>\n",
       "    </tr>\n",
       "    <tr>\n",
       "      <th>1</th>\n",
       "      <td>0.0</td>\n",
       "      <td>0.0</td>\n",
       "      <td>1.0</td>\n",
       "      <td>0.1818</td>\n",
       "      <td>0.86</td>\n",
       "      <td>0.1045</td>\n",
       "      <td>1.0</td>\n",
       "      <td>0.0</td>\n",
       "      <td>0.0</td>\n",
       "      <td>0.0</td>\n",
       "      <td>...</td>\n",
       "      <td>0.0</td>\n",
       "      <td>0.0</td>\n",
       "      <td>0.0</td>\n",
       "      <td>0.0</td>\n",
       "      <td>0.0</td>\n",
       "      <td>0.0</td>\n",
       "      <td>0.0</td>\n",
       "      <td>6.0</td>\n",
       "      <td>6.0</td>\n",
       "      <td>0.0</td>\n",
       "    </tr>\n",
       "    <tr>\n",
       "      <th>2</th>\n",
       "      <td>1.0</td>\n",
       "      <td>0.0</td>\n",
       "      <td>0.0</td>\n",
       "      <td>0.2879</td>\n",
       "      <td>0.33</td>\n",
       "      <td>0.2239</td>\n",
       "      <td>1.0</td>\n",
       "      <td>0.0</td>\n",
       "      <td>0.0</td>\n",
       "      <td>0.0</td>\n",
       "      <td>...</td>\n",
       "      <td>0.0</td>\n",
       "      <td>0.0</td>\n",
       "      <td>0.0</td>\n",
       "      <td>0.0</td>\n",
       "      <td>0.0</td>\n",
       "      <td>0.0</td>\n",
       "      <td>0.0</td>\n",
       "      <td>96.0</td>\n",
       "      <td>81.0</td>\n",
       "      <td>15.0</td>\n",
       "    </tr>\n",
       "    <tr>\n",
       "      <th>3</th>\n",
       "      <td>1.0</td>\n",
       "      <td>0.0</td>\n",
       "      <td>0.0</td>\n",
       "      <td>0.6212</td>\n",
       "      <td>0.43</td>\n",
       "      <td>0.4179</td>\n",
       "      <td>0.0</td>\n",
       "      <td>0.0</td>\n",
       "      <td>1.0</td>\n",
       "      <td>0.0</td>\n",
       "      <td>...</td>\n",
       "      <td>0.0</td>\n",
       "      <td>0.0</td>\n",
       "      <td>0.0</td>\n",
       "      <td>0.0</td>\n",
       "      <td>0.0</td>\n",
       "      <td>0.0</td>\n",
       "      <td>0.0</td>\n",
       "      <td>342.0</td>\n",
       "      <td>263.0</td>\n",
       "      <td>79.0</td>\n",
       "    </tr>\n",
       "    <tr>\n",
       "      <th>4</th>\n",
       "      <td>1.0</td>\n",
       "      <td>0.0</td>\n",
       "      <td>0.0</td>\n",
       "      <td>0.4091</td>\n",
       "      <td>0.87</td>\n",
       "      <td>0.1045</td>\n",
       "      <td>0.0</td>\n",
       "      <td>0.0</td>\n",
       "      <td>0.0</td>\n",
       "      <td>1.0</td>\n",
       "      <td>...</td>\n",
       "      <td>0.0</td>\n",
       "      <td>0.0</td>\n",
       "      <td>0.0</td>\n",
       "      <td>0.0</td>\n",
       "      <td>0.0</td>\n",
       "      <td>0.0</td>\n",
       "      <td>0.0</td>\n",
       "      <td>404.0</td>\n",
       "      <td>341.0</td>\n",
       "      <td>63.0</td>\n",
       "    </tr>\n",
       "  </tbody>\n",
       "</table>\n",
       "<p>5 rows × 60 columns</p>\n",
       "</div>"
      ],
      "text/plain": [
       "    yr  holiday  workingday   atemp   hum  windspeed  season_1  season_2  \\\n",
       "0  0.0      0.0         1.0  0.1515  0.86     0.1642       1.0       0.0   \n",
       "1  0.0      0.0         1.0  0.1818  0.86     0.1045       1.0       0.0   \n",
       "2  1.0      0.0         0.0  0.2879  0.33     0.2239       1.0       0.0   \n",
       "3  1.0      0.0         0.0  0.6212  0.43     0.4179       0.0       0.0   \n",
       "4  1.0      0.0         0.0  0.4091  0.87     0.1045       0.0       0.0   \n",
       "\n",
       "   season_3  season_4      ...        hr_17  hr_18  hr_19  hr_20  hr_21  \\\n",
       "0       0.0       0.0      ...          0.0    0.0    0.0    0.0    0.0   \n",
       "1       0.0       0.0      ...          0.0    0.0    0.0    0.0    0.0   \n",
       "2       0.0       0.0      ...          0.0    0.0    0.0    0.0    0.0   \n",
       "3       1.0       0.0      ...          0.0    0.0    0.0    0.0    0.0   \n",
       "4       0.0       1.0      ...          0.0    0.0    0.0    0.0    0.0   \n",
       "\n",
       "   hr_22  hr_23  total_shares  registered_shares  casual_shares  \n",
       "0    0.0    0.0           5.0                5.0            0.0  \n",
       "1    0.0    0.0           6.0                6.0            0.0  \n",
       "2    0.0    0.0          96.0               81.0           15.0  \n",
       "3    0.0    0.0         342.0              263.0           79.0  \n",
       "4    0.0    0.0         404.0              341.0           63.0  \n",
       "\n",
       "[5 rows x 60 columns]"
      ]
     },
     "execution_count": 445,
     "metadata": {},
     "output_type": "execute_result"
    }
   ],
   "source": [
    "df_test.head()"
   ]
  },
  {
   "cell_type": "markdown",
   "metadata": {},
   "source": [
    "<H3> Fit the training Data In a OLS Linear Model</H3>"
   ]
  },
  {
   "cell_type": "code",
   "execution_count": 454,
   "metadata": {},
   "outputs": [
    {
     "name": "stdout",
     "output_type": "stream",
     "text": [
      "                            OLS Regression Results                            \n",
      "==============================================================================\n",
      "Dep. Variable:           total_shares   R-squared:                       0.792\n",
      "Model:                            OLS   Adj. R-squared:                  0.791\n",
      "Method:                 Least Squares   F-statistic:                     833.0\n",
      "Date:                Tue, 29 May 2018   Prob (F-statistic):               0.00\n",
      "Time:                        12:47:26   Log-Likelihood:                -61714.\n",
      "No. Observations:               10969   AIC:                         1.235e+05\n",
      "Df Residuals:                   10918   BIC:                         1.239e+05\n",
      "Df Model:                          50                                         \n",
      "Covariance Type:            nonrobust                                         \n",
      "================================================================================\n",
      "                   coef    std err          t      P>|t|      [0.025      0.975]\n",
      "--------------------------------------------------------------------------------\n",
      "atemp          220.8911      8.097     27.279      0.000     205.019     236.764\n",
      "windspeed      -17.5859      5.679     -3.097      0.002     -28.718      -6.454\n",
      "hum            -69.4999      4.643    -14.970      0.000     -78.600     -60.399\n",
      "yr              62.6239      1.312     47.731      0.000      60.052      65.196\n",
      "weekday_0       14.9635      2.653      5.641      0.000       9.764      20.163\n",
      "weekday_1        4.4735      2.603      1.719      0.086      -0.628       9.575\n",
      "weekday_2        7.2998      2.617      2.789      0.005       2.169      12.430\n",
      "weekday_3        6.3935      2.609      2.450      0.014       1.279      11.508\n",
      "weekday_4       10.6739      2.596      4.111      0.000       5.585      15.763\n",
      "weekday_5       21.7930      2.566      8.494      0.000      16.764      26.822\n",
      "weekday_6       21.7558      2.609      8.337      0.000      16.641      26.871\n",
      "weathersit_1    53.6869      6.780      7.918      0.000      40.396      66.978\n",
      "weathersit_2    46.2491      6.872      6.730      0.000      32.779      59.719\n",
      "weathersit_3    -5.2335      7.130     -0.734      0.463     -19.210       8.743\n",
      "weathersit_4    -7.3496     32.493     -0.226      0.821     -71.041      56.342\n",
      "season_1        -9.1127      4.399     -2.071      0.038     -17.736      -0.489\n",
      "season_2        22.4866      4.455      5.047      0.000      13.753      31.220\n",
      "season_3        21.5778      4.651      4.640      0.000      12.462      30.694\n",
      "season_4        52.4012      4.568     11.472      0.000      43.447      61.355\n",
      "mnth_1          -0.9821      3.724     -0.264      0.792      -8.282       6.318\n",
      "mnth_2           6.5684      3.653      1.798      0.072      -0.591      13.728\n",
      "mnth_3          12.1570      2.960      4.107      0.000       6.355      17.959\n",
      "mnth_4           6.2499      3.591      1.740      0.082      -0.789      13.289\n",
      "mnth_5          22.9766      3.804      6.040      0.000      15.520      30.433\n",
      "mnth_6          12.2208      3.519      3.472      0.001       5.322      19.120\n",
      "mnth_7         -10.5659      4.196     -2.518      0.012     -18.790      -2.342\n",
      "mnth_8           8.2935      4.004      2.072      0.038       0.446      16.141\n",
      "mnth_9          23.1713      3.401      6.814      0.000      16.505      29.837\n",
      "mnth_10          8.4034      3.726      2.255      0.024       1.100      15.707\n",
      "mnth_11         -2.1653      3.728     -0.581      0.561      -9.474       5.143\n",
      "mnth_12          1.0253      3.187      0.322      0.748      -5.222       7.272\n",
      "hr_0          -116.7390      3.050    -38.273      0.000    -122.718    -110.760\n",
      "hr_1          -137.1512      3.009    -45.580      0.000    -143.050    -131.253\n",
      "hr_2          -146.3281      3.079    -47.529      0.000    -152.363    -140.293\n",
      "hr_3          -155.4187      3.133    -49.611      0.000    -161.559    -149.278\n",
      "hr_4          -159.6427      3.143    -50.800      0.000    -165.803    -153.483\n",
      "hr_5          -142.0714      3.125    -45.458      0.000    -148.198    -135.945\n",
      "hr_6           -82.8435      3.097    -26.750      0.000     -88.914     -76.773\n",
      "hr_7            56.0103      3.383     16.556      0.000      49.379      62.642\n",
      "hr_8           228.2257      4.495     50.774      0.000     219.415     237.037\n",
      "hr_9            49.7129      3.007     16.532      0.000      43.818      55.607\n",
      "hr_10          -12.0898      3.050     -3.963      0.000     -18.069      -6.110\n",
      "hr_11            0.5703      3.246      0.176      0.861      -5.792       6.932\n",
      "hr_12           37.4299      3.200     11.698      0.000      31.158      43.702\n",
      "hr_13           31.8761      3.246      9.821      0.000      25.514      38.238\n",
      "hr_14           10.1556      3.330      3.050      0.002       3.628      16.683\n",
      "hr_15           27.7013      3.265      8.484      0.000      21.301      34.102\n",
      "hr_16          100.8252      3.178     31.727      0.000      94.596     107.055\n",
      "hr_17          250.7122      3.664     68.419      0.000     243.529     257.895\n",
      "hr_18          224.8724      3.663     61.383      0.000     217.691     232.053\n",
      "hr_19          112.4539      3.143     35.774      0.000     106.292     118.616\n",
      "hr_20           42.9984      3.057     14.067      0.000      37.007      48.990\n",
      "hr_21           -7.1487      2.969     -2.408      0.016     -12.968      -1.330\n",
      "hr_22          -44.0068      2.953    -14.902      0.000     -49.795     -38.218\n",
      "hr_23          -82.7516      3.014    -27.460      0.000     -88.659     -76.844\n",
      "==============================================================================\n",
      "Omnibus:                       99.499   Durbin-Watson:                   2.012\n",
      "Prob(Omnibus):                  0.000   Jarque-Bera (JB):              102.441\n",
      "Skew:                           0.228   Prob(JB):                     5.69e-23\n",
      "Kurtosis:                       3.131   Cond. No.                     1.14e+16\n",
      "==============================================================================\n",
      "\n",
      "Warnings:\n",
      "[1] Standard Errors assume that the covariance matrix of the errors is correctly specified.\n",
      "[2] The smallest eigenvalue is 1.67e-28. This might indicate that there are\n",
      "strong multicollinearity problems or that the design matrix is singular.\n"
     ]
    }
   ],
   "source": [
    "m = ols('total_shares ~ atemp + windspeed + hum + yr + weekday_0 + weekday_1 + weekday_2 + weekday_3 + weekday_4 + weekday_5 + weekday_6 +  weathersit_1 + weathersit_2 + weathersit_3 +  weathersit_4 + season_1  + season_2  + season_3  + season_4 + mnth_1 + mnth_2 + mnth_3  +  mnth_4 + mnth_5 + mnth_6 + mnth_7 + mnth_8  + mnth_9 + mnth_10 + mnth_11 + mnth_12 + hr_0 + hr_1 + hr_2 + hr_3 + hr_4 + hr_5 + hr_6 + hr_7 + hr_8 + hr_9 + hr_10 + hr_11 + hr_12 + hr_13 + hr_14 + hr_15 + hr_16 + hr_17 + hr_18 + hr_19 + hr_20 + hr_21 + hr_22 + hr_23 - 1',df_train).fit()\n",
    "\n",
    "print(m.summary())"
   ]
  },
  {
   "cell_type": "markdown",
   "metadata": {},
   "source": [
    "<H3> Remove Outliers From Training Data</H3>"
   ]
  },
  {
   "cell_type": "code",
   "execution_count": 448,
   "metadata": {
    "collapsed": true
   },
   "outputs": [],
   "source": [
    "ol = m.outlier_test()"
   ]
  },
  {
   "cell_type": "code",
   "execution_count": 449,
   "metadata": {},
   "outputs": [
    {
     "data": {
      "text/html": [
       "<div>\n",
       "<style>\n",
       "    .dataframe thead tr:only-child th {\n",
       "        text-align: right;\n",
       "    }\n",
       "\n",
       "    .dataframe thead th {\n",
       "        text-align: left;\n",
       "    }\n",
       "\n",
       "    .dataframe tbody tr th {\n",
       "        vertical-align: top;\n",
       "    }\n",
       "</style>\n",
       "<table border=\"1\" class=\"dataframe\">\n",
       "  <thead>\n",
       "    <tr style=\"text-align: right;\">\n",
       "      <th></th>\n",
       "      <th>student_resid</th>\n",
       "      <th>unadj_p</th>\n",
       "      <th>bonf(p)</th>\n",
       "    </tr>\n",
       "  </thead>\n",
       "  <tbody>\n",
       "    <tr>\n",
       "      <th>0</th>\n",
       "      <td>1.266187</td>\n",
       "      <td>0.205470</td>\n",
       "      <td>1.0</td>\n",
       "    </tr>\n",
       "    <tr>\n",
       "      <th>1</th>\n",
       "      <td>-1.273758</td>\n",
       "      <td>0.202774</td>\n",
       "      <td>1.0</td>\n",
       "    </tr>\n",
       "    <tr>\n",
       "      <th>2</th>\n",
       "      <td>-0.177472</td>\n",
       "      <td>0.859141</td>\n",
       "      <td>1.0</td>\n",
       "    </tr>\n",
       "    <tr>\n",
       "      <th>3</th>\n",
       "      <td>1.159316</td>\n",
       "      <td>0.246350</td>\n",
       "      <td>1.0</td>\n",
       "    </tr>\n",
       "    <tr>\n",
       "      <th>4</th>\n",
       "      <td>0.464161</td>\n",
       "      <td>0.642541</td>\n",
       "      <td>1.0</td>\n",
       "    </tr>\n",
       "  </tbody>\n",
       "</table>\n",
       "</div>"
      ],
      "text/plain": [
       "   student_resid   unadj_p  bonf(p)\n",
       "0       1.266187  0.205470      1.0\n",
       "1      -1.273758  0.202774      1.0\n",
       "2      -0.177472  0.859141      1.0\n",
       "3       1.159316  0.246350      1.0\n",
       "4       0.464161  0.642541      1.0"
      ]
     },
     "execution_count": 449,
     "metadata": {},
     "output_type": "execute_result"
    }
   ],
   "source": [
    "ol.head()"
   ]
  },
  {
   "cell_type": "code",
   "execution_count": 450,
   "metadata": {},
   "outputs": [],
   "source": [
    "df_train = df_train.drop(df_train[ol['unadj_p']<0.1].index, axis=0)"
   ]
  },
  {
   "cell_type": "markdown",
   "metadata": {},
   "source": [
    "<H3>Remove Most Influential Points From Training Data</H3>"
   ]
  },
  {
   "cell_type": "code",
   "execution_count": 455,
   "metadata": {},
   "outputs": [
    {
     "data": {
      "image/png": "[encoded data removed]",
      "text/plain": [
       "<matplotlib.figure.Figure at 0x1a2b8bc438>"
      ]
     },
     "metadata": {},
     "output_type": "display_data"
    }
   ],
   "source": [
    "(c,p) = m.get_influence().cooks_distance\n",
    "\n",
    "fig = plt.gcf()\n",
    "fig.set_size_inches(9, 6)\n",
    "\n",
    "plt.stem(np.arange(len(c)), c, markerfmt=\",\")\n",
    "\n",
    "plt.show()"
   ]
  },
  {
   "cell_type": "code",
   "execution_count": 456,
   "metadata": {},
   "outputs": [],
   "source": [
    "df_train = df_train.drop(df_train[c>0.0020].index, axis=0)"
   ]
  },
  {
   "cell_type": "markdown",
   "metadata": {},
   "source": [
    "<H3> Total Shares - Linear Regression Model - Train R2 Score(0.79) - Test R2 Score (0.67) - MSE score (10645) </H3>"
   ]
  },
  {
   "cell_type": "code",
   "execution_count": 506,
   "metadata": {},
   "outputs": [
    {
     "data": {
      "text/plain": [
       "GridSearchCV(cv=5, error_score='raise',\n",
       "       estimator=Pipeline(memory=None,\n",
       "     steps=[('selectKBest', SelectKBest(k=10, score_func=<function f_classif at 0x114db4b70>)), ('clf', LinearRegression(copy_X=True, fit_intercept=True, n_jobs=1, normalize=False))]),\n",
       "       fit_params=None, iid=True, n_jobs=1,\n",
       "       param_grid={'clf__fit_intercept': [True, False], 'selectKBest__k': range(1, 50), 'selectKBest__score_func': [<function f_regression at 0x114db4d08>]},\n",
       "       pre_dispatch='2*n_jobs', refit=True, return_train_score='warn',\n",
       "       scoring=None, verbose=0)"
      ]
     },
     "execution_count": 506,
     "metadata": {},
     "output_type": "execute_result"
    }
   ],
   "source": [
    "pipe = Pipeline([('selectKBest', SelectKBest()), ('clf', LinearRegression())])\n",
    "param_grid = {\n",
    "    'clf__fit_intercept' : [True, False],\n",
    "    'selectKBest__k' : range(1,50,1),\n",
    "    'selectKBest__score_func' : [f_regression]\n",
    "}\n",
    "\n",
    "grid =GridSearchCV(pipe, param_grid, cv=5 )\n",
    "grid.fit(df_train.iloc[:,:-3].astype(float),df_train.iloc[:,-3].astype(int))"
   ]
  },
  {
   "cell_type": "code",
   "execution_count": 507,
   "metadata": {},
   "outputs": [
    {
     "data": {
      "text/plain": [
       "0.7900776507779641"
      ]
     },
     "execution_count": 507,
     "metadata": {},
     "output_type": "execute_result"
    }
   ],
   "source": [
    "grid.best_score_"
   ]
  },
  {
   "cell_type": "code",
   "execution_count": 508,
   "metadata": {
    "collapsed": true
   },
   "outputs": [],
   "source": [
    "y_pred = grid.predict(df_test.iloc[:, :-3])"
   ]
  },
  {
   "cell_type": "code",
   "execution_count": 509,
   "metadata": {},
   "outputs": [
    {
     "data": {
      "text/plain": [
       "0.67164993599205558"
      ]
     },
     "execution_count": 509,
     "metadata": {},
     "output_type": "execute_result"
    }
   ],
   "source": [
    "grid.score(df_test.iloc[:, :-3], df_test.total_shares)"
   ]
  },
  {
   "cell_type": "code",
   "execution_count": 510,
   "metadata": {},
   "outputs": [
    {
     "data": {
      "text/plain": [
       "10645.993489021444"
      ]
     },
     "execution_count": 510,
     "metadata": {},
     "output_type": "execute_result"
    }
   ],
   "source": [
    "mean_squared_error(df_test.total_shares, y_pred)"
   ]
  },
  {
   "cell_type": "code",
   "execution_count": 511,
   "metadata": {},
   "outputs": [
    {
     "data": {
      "text/plain": [
       "Pipeline(memory=None,\n",
       "     steps=[('selectKBest', SelectKBest(k=49, score_func=<function f_regression at 0x114db4d08>)), ('clf', LinearRegression(copy_X=True, fit_intercept=True, n_jobs=1, normalize=False))])"
      ]
     },
     "execution_count": 511,
     "metadata": {},
     "output_type": "execute_result"
    }
   ],
   "source": [
    "grid.best_estimator_"
   ]
  },
  {
   "cell_type": "code",
   "execution_count": 512,
   "metadata": {},
   "outputs": [
    {
     "data": {
      "text/plain": [
       "{'clf__fit_intercept': True,\n",
       " 'selectKBest__k': 49,\n",
       " 'selectKBest__score_func': <function sklearn.feature_selection.univariate_selection.f_regression>}"
      ]
     },
     "execution_count": 512,
     "metadata": {},
     "output_type": "execute_result"
    }
   ],
   "source": [
    "grid.best_params_"
   ]
  },
  {
   "cell_type": "code",
   "execution_count": 513,
   "metadata": {},
   "outputs": [
    {
     "data": {
      "text/plain": [
       "Index(['yr', 'holiday', 'workingday', 'atemp', 'hum', 'windspeed', 'season_1',\n",
       "       'season_2', 'season_3', 'season_4', 'mnth_1', 'mnth_2', 'mnth_3',\n",
       "       'mnth_5', 'mnth_6', 'mnth_7', 'mnth_8', 'mnth_9', 'mnth_10', 'mnth_12',\n",
       "       'weekday_6', 'weekday_0', 'weekday_1', 'weekday_5', 'weathersit_1',\n",
       "       'weathersit_2', 'weathersit_3', 'hr_0', 'hr_1', 'hr_2', 'hr_3', 'hr_4',\n",
       "       'hr_5', 'hr_6', 'hr_7', 'hr_8', 'hr_9', 'hr_11', 'hr_12', 'hr_13',\n",
       "       'hr_14', 'hr_15', 'hr_16', 'hr_17', 'hr_18', 'hr_19', 'hr_20', 'hr_22',\n",
       "       'hr_23'],\n",
       "      dtype='object')"
      ]
     },
     "execution_count": 513,
     "metadata": {},
     "output_type": "execute_result"
    }
   ],
   "source": [
    "features = list(grid.best_estimator_.named_steps['selectKBest'].get_support())\n",
    "features.extend([False, False, False])\n",
    "\n",
    "df_train.loc[:,features].columns"
   ]
  },
  {
   "cell_type": "markdown",
   "metadata": {},
   "source": [
    "<H3> Registered Shares - Linear Regression Model - Train R2 Score(0.77) - Test R2 Score (0.67) - MSE score (7338)</H3>"
   ]
  },
  {
   "cell_type": "code",
   "execution_count": 514,
   "metadata": {},
   "outputs": [
    {
     "data": {
      "text/plain": [
       "GridSearchCV(cv=5, error_score='raise',\n",
       "       estimator=Pipeline(memory=None,\n",
       "     steps=[('selectKBest', SelectKBest(k=10, score_func=<function f_classif at 0x114db4b70>)), ('clf', LinearRegression(copy_X=True, fit_intercept=True, n_jobs=1, normalize=False))]),\n",
       "       fit_params=None, iid=True, n_jobs=1,\n",
       "       param_grid={'clf__fit_intercept': [True, False], 'selectKBest__k': range(1, 50), 'selectKBest__score_func': [<function f_regression at 0x114db4d08>]},\n",
       "       pre_dispatch='2*n_jobs', refit=True, return_train_score='warn',\n",
       "       scoring=None, verbose=0)"
      ]
     },
     "execution_count": 514,
     "metadata": {},
     "output_type": "execute_result"
    }
   ],
   "source": [
    "pipe = Pipeline([('selectKBest', SelectKBest()), ('clf', LinearRegression())])\n",
    "param_grid = {\n",
    "    'clf__fit_intercept' : [True, False],\n",
    "    'selectKBest__k' : range(1,50,1),\n",
    "    'selectKBest__score_func' : [f_regression]\n",
    "}\n",
    "\n",
    "grid =GridSearchCV(pipe, param_grid, cv=5 )\n",
    "grid.fit(df_train.iloc[:,:-3].astype(float),df_train.iloc[:,-2].astype(int))"
   ]
  },
  {
   "cell_type": "code",
   "execution_count": 515,
   "metadata": {},
   "outputs": [
    {
     "data": {
      "text/plain": [
       "0.77646766086824859"
      ]
     },
     "execution_count": 515,
     "metadata": {},
     "output_type": "execute_result"
    }
   ],
   "source": [
    "grid.best_score_"
   ]
  },
  {
   "cell_type": "code",
   "execution_count": 516,
   "metadata": {},
   "outputs": [
    {
     "data": {
      "text/plain": [
       "Pipeline(memory=None,\n",
       "     steps=[('selectKBest', SelectKBest(k=49, score_func=<function f_regression at 0x114db4d08>)), ('clf', LinearRegression(copy_X=True, fit_intercept=False, n_jobs=1, normalize=False))])"
      ]
     },
     "execution_count": 516,
     "metadata": {},
     "output_type": "execute_result"
    }
   ],
   "source": [
    "grid.best_estimator_"
   ]
  },
  {
   "cell_type": "code",
   "execution_count": 517,
   "metadata": {},
   "outputs": [
    {
     "data": {
      "text/plain": [
       "{'clf__fit_intercept': False,\n",
       " 'selectKBest__k': 49,\n",
       " 'selectKBest__score_func': <function sklearn.feature_selection.univariate_selection.f_regression>}"
      ]
     },
     "execution_count": 517,
     "metadata": {},
     "output_type": "execute_result"
    }
   ],
   "source": [
    "grid.best_params_"
   ]
  },
  {
   "cell_type": "code",
   "execution_count": 518,
   "metadata": {
    "collapsed": true
   },
   "outputs": [],
   "source": [
    "y_pred = grid.predict(df_test.iloc[:, :-3])"
   ]
  },
  {
   "cell_type": "code",
   "execution_count": 519,
   "metadata": {},
   "outputs": [
    {
     "data": {
      "text/plain": [
       "0.66824847904509332"
      ]
     },
     "execution_count": 519,
     "metadata": {},
     "output_type": "execute_result"
    }
   ],
   "source": [
    "grid.score(df_test.iloc[:, :-3], df_test.registered_shares)"
   ]
  },
  {
   "cell_type": "code",
   "execution_count": 520,
   "metadata": {},
   "outputs": [
    {
     "data": {
      "text/plain": [
       "7338.8912444183179"
      ]
     },
     "execution_count": 520,
     "metadata": {},
     "output_type": "execute_result"
    }
   ],
   "source": [
    "mean_squared_error(df_test.registered_shares, y_pred)"
   ]
  },
  {
   "cell_type": "code",
   "execution_count": 521,
   "metadata": {},
   "outputs": [
    {
     "data": {
      "text/plain": [
       "Index(['yr', 'holiday', 'workingday', 'atemp', 'hum', 'windspeed', 'season_1',\n",
       "       'season_2', 'season_3', 'season_4', 'mnth_1', 'mnth_2', 'mnth_3',\n",
       "       'mnth_4', 'mnth_5', 'mnth_6', 'mnth_7', 'mnth_8', 'mnth_9', 'mnth_10',\n",
       "       'mnth_12', 'weekday_6', 'weekday_0', 'weekday_2', 'weekday_4',\n",
       "       'weekday_5', 'weathersit_1', 'weathersit_3', 'hr_0', 'hr_1', 'hr_2',\n",
       "       'hr_3', 'hr_4', 'hr_5', 'hr_6', 'hr_7', 'hr_8', 'hr_9', 'hr_10',\n",
       "       'hr_12', 'hr_13', 'hr_15', 'hr_16', 'hr_17', 'hr_18', 'hr_19', 'hr_20',\n",
       "       'hr_22', 'hr_23'],\n",
       "      dtype='object')"
      ]
     },
     "execution_count": 521,
     "metadata": {},
     "output_type": "execute_result"
    }
   ],
   "source": [
    "features = list(grid.best_estimator_.named_steps['selectKBest'].get_support())\n",
    "features.extend([False, False, False])\n",
    "\n",
    "df_train.loc[:,features].columns"
   ]
  },
  {
   "cell_type": "markdown",
   "metadata": {},
   "source": [
    "<H3> Casual Shares - Linear Regression Model - Train R2 Score(0.63) - Test R2 Score (0.56) - MSE score (1162)</H3>"
   ]
  },
  {
   "cell_type": "code",
   "execution_count": 522,
   "metadata": {},
   "outputs": [
    {
     "data": {
      "text/plain": [
       "GridSearchCV(cv=5, error_score='raise',\n",
       "       estimator=Pipeline(memory=None,\n",
       "     steps=[('selectKBest', SelectKBest(k=10, score_func=<function f_classif at 0x114db4b70>)), ('clf', LinearRegression(copy_X=True, fit_intercept=True, n_jobs=1, normalize=False))]),\n",
       "       fit_params=None, iid=True, n_jobs=1,\n",
       "       param_grid={'clf__fit_intercept': [True, False], 'selectKBest__k': range(1, 50), 'selectKBest__score_func': [<function f_regression at 0x114db4d08>]},\n",
       "       pre_dispatch='2*n_jobs', refit=True, return_train_score='warn',\n",
       "       scoring=None, verbose=0)"
      ]
     },
     "execution_count": 522,
     "metadata": {},
     "output_type": "execute_result"
    }
   ],
   "source": [
    "pipe = Pipeline([('selectKBest', SelectKBest()), ('clf', LinearRegression())])\n",
    "param_grid = {\n",
    "    'clf__fit_intercept' : [True, False],\n",
    "    'selectKBest__k' : range(1,50,1),\n",
    "    'selectKBest__score_func' : [f_regression]\n",
    "}\n",
    "\n",
    "grid =GridSearchCV(pipe, param_grid, cv=5 )\n",
    "grid.fit(df_train.iloc[:,:-3].astype(float),df_train.iloc[:,-1].astype(int))"
   ]
  },
  {
   "cell_type": "code",
   "execution_count": 523,
   "metadata": {},
   "outputs": [
    {
     "data": {
      "text/plain": [
       "0.62705185816000208"
      ]
     },
     "execution_count": 523,
     "metadata": {},
     "output_type": "execute_result"
    }
   ],
   "source": [
    "grid.best_score_"
   ]
  },
  {
   "cell_type": "code",
   "execution_count": 524,
   "metadata": {
    "collapsed": true
   },
   "outputs": [],
   "source": [
    "y_pred = grid.predict(df_test.iloc[:, :-3])"
   ]
  },
  {
   "cell_type": "code",
   "execution_count": 525,
   "metadata": {},
   "outputs": [
    {
     "data": {
      "text/plain": [
       "Pipeline(memory=None,\n",
       "     steps=[('selectKBest', SelectKBest(k=49, score_func=<function f_regression at 0x114db4d08>)), ('clf', LinearRegression(copy_X=True, fit_intercept=False, n_jobs=1, normalize=False))])"
      ]
     },
     "execution_count": 525,
     "metadata": {},
     "output_type": "execute_result"
    }
   ],
   "source": [
    "grid.best_estimator_"
   ]
  },
  {
   "cell_type": "code",
   "execution_count": 526,
   "metadata": {},
   "outputs": [
    {
     "data": {
      "text/plain": [
       "{'clf__fit_intercept': False,\n",
       " 'selectKBest__k': 49,\n",
       " 'selectKBest__score_func': <function sklearn.feature_selection.univariate_selection.f_regression>}"
      ]
     },
     "execution_count": 526,
     "metadata": {},
     "output_type": "execute_result"
    }
   ],
   "source": [
    "grid.best_params_"
   ]
  },
  {
   "cell_type": "code",
   "execution_count": 527,
   "metadata": {},
   "outputs": [
    {
     "data": {
      "text/plain": [
       "0.55813943504036978"
      ]
     },
     "execution_count": 527,
     "metadata": {},
     "output_type": "execute_result"
    }
   ],
   "source": [
    "grid.score(df_test.iloc[:, :-3], df_test.casual_shares)"
   ]
  },
  {
   "cell_type": "code",
   "execution_count": 528,
   "metadata": {},
   "outputs": [
    {
     "data": {
      "text/plain": [
       "1162.4086743562993"
      ]
     },
     "execution_count": 528,
     "metadata": {},
     "output_type": "execute_result"
    }
   ],
   "source": [
    "mean_squared_error(df_test.casual_shares, y_pred)"
   ]
  },
  {
   "cell_type": "code",
   "execution_count": 529,
   "metadata": {},
   "outputs": [
    {
     "data": {
      "text/plain": [
       "Index(['yr', 'workingday', 'atemp', 'hum', 'windspeed', 'season_1', 'season_2',\n",
       "       'season_3', 'season_4', 'mnth_1', 'mnth_2', 'mnth_3', 'mnth_5',\n",
       "       'mnth_6', 'mnth_7', 'mnth_8', 'mnth_9', 'mnth_11', 'mnth_12',\n",
       "       'weekday_6', 'weekday_0', 'weekday_1', 'weekday_2', 'weekday_3',\n",
       "       'weekday_4', 'weathersit_1', 'weathersit_2', 'weathersit_3', 'hr_0',\n",
       "       'hr_1', 'hr_2', 'hr_3', 'hr_4', 'hr_5', 'hr_6', 'hr_7', 'hr_8', 'hr_10',\n",
       "       'hr_11', 'hr_12', 'hr_13', 'hr_14', 'hr_15', 'hr_16', 'hr_17', 'hr_18',\n",
       "       'hr_19', 'hr_22', 'hr_23'],\n",
       "      dtype='object')"
      ]
     },
     "execution_count": 529,
     "metadata": {},
     "output_type": "execute_result"
    }
   ],
   "source": [
    "features = list(grid.best_estimator_.named_steps['selectKBest'].get_support())\n",
    "features.extend([False, False, False])\n",
    "\n",
    "df_train.loc[:,features].columns"
   ]
  },
  {
   "cell_type": "code",
   "execution_count": null,
   "metadata": {
    "collapsed": true
   },
   "outputs": [],
   "source": []
  }
 ],
 "metadata": {
  "kernelspec": {
   "display_name": "Python 3",
   "language": "python",
   "name": "python3"
  },
  "language_info": {
   "codemirror_mode": {
    "name": "ipython",
    "version": 3
   },
   "file_extension": ".py",
   "mimetype": "text/x-python",
   "name": "python",
   "nbconvert_exporter": "python",
   "pygments_lexer": "ipython3",
   "version": "3.6.3"
  }
 },
 "nbformat": 4,
 "nbformat_minor": 2
}
