{
 "cells": [
  {
   "cell_type": "code",
   "execution_count": 1,
   "metadata": {},
   "outputs": [
    {
     "name": "stderr",
     "output_type": "stream",
     "text": [
      "/Users/preethi.john/anaconda3/lib/python3.6/site-packages/statsmodels/compat/pandas.py:56: FutureWarning: The pandas.core.datetools module is deprecated and will be removed in a future version. Please use the pandas.tseries module instead.\n",
      "  from pandas.core import datetools\n"
     ]
    }
   ],
   "source": [
    "import pandas as pd\n",
    "import numpy as np\n",
    "import matplotlib.pyplot as plt\n",
    "import seaborn as sns\n",
    "from sklearn.linear_model import LinearRegression\n",
    "from sklearn.preprocessing import StandardScaler\n",
    "from sklearn.linear_model import Ridge\n",
    "from sklearn.linear_model import ElasticNet\n",
    "from sklearn.model_selection import GridSearchCV\n",
    "import statsmodels.api as sm\n",
    "from statsmodels.formula.api import ols\n",
    "from sklearn.feature_selection import SelectFromModel\n",
    "from sklearn.ensemble import RandomForestClassifier\n",
    "from sklearn.svm import LinearSVC\n",
    "from sklearn.feature_selection import RFE\n",
    "from sklearn.linear_model import Lasso\n",
    "from sklearn.metrics import explained_variance_score\n",
    "from sklearn.cluster import KMeans\n",
    "from sklearn.metrics import mean_squared_error\n",
    "from sklearn.linear_model import SGDRegressor\n",
    "from sklearn.ensemble import IsolationForest\n",
    "from sklearn.covariance import EllipticEnvelope\n",
    "from sklearn.neighbors import LocalOutlierFactor\n",
    "from statsmodels.graphics.regressionplots import influence_plot\n",
    "from statsmodels.graphics.gofplots import qqplot"
   ]
  },
  {
   "cell_type": "markdown",
   "metadata": {},
   "source": [
    "\t- instant: record index\n",
    "\t- dteday : date\n",
    "\t- season : season (1:springer, 2:summer, 3:fall, 4:winter)\n",
    "\t- yr : year (0: 2011, 1:2012)\n",
    "\t- mnth : month ( 1 to 12)\n",
    "\t- hr : hour (0 to 23)\n",
    "\t- holiday : weather day is holiday or not (extracted from http://dchr.dc.gov/page/holiday-schedule)\n",
    "\t- weekday : day of the week\n",
    "\t- workingday : if day is neither weekend nor holiday is 1, otherwise is 0.\n",
    "\t+ weathersit : \n",
    "\t\t- 1: Clear, Few clouds, Partly cloudy, Partly cloudy\n",
    "\t\t- 2: Mist + Cloudy, Mist + Broken clouds, Mist + Few clouds, Mist\n",
    "\t\t- 3: Light Snow, Light Rain + Thunderstorm + Scattered clouds, Light Rain + Scattered clouds\n",
    "\t\t- 4: Heavy Rain + Ice Pallets + Thunderstorm + Mist, Snow + Fog\n",
    "\t- temp : Normalized temperature in Celsius. The values are divided to 41 (max)\n",
    "\t- atemp: Normalized feeling temperature in Celsius. The values are divided to 50 (max)\n",
    "\t- hum: Normalized humidity. The values are divided to 100 (max)\n",
    "\t- windspeed: Normalized wind speed. The values are divided to 67 (max)\n",
    "\t- casual: count of casual users\n",
    "\t- registered: count of registered users\n",
    "\t- cnt: count of total rental bikes including both casual and registered\n"
   ]
  },
  {
   "cell_type": "code",
   "execution_count": 37,
   "metadata": {
    "collapsed": true
   },
   "outputs": [],
   "source": [
    "df = pd.read_csv('../Data/hour.csv')\n",
    "\n",
    "df = df.drop('instant', axis=1)\n",
    "\n",
    "df.dteday = pd.to_datetime(df.dteday)"
   ]
  },
  {
   "cell_type": "code",
   "execution_count": 8,
   "metadata": {
    "collapsed": true
   },
   "outputs": [],
   "source": [
    "df.dteday = pd.to_datetime(df.dteday)\n",
    "\n",
    "\n",
    "for season in df.season.unique():\n",
    "    df['season_'+str(season)] = (df['season']==season)\n",
    "    \n",
    "df = df.drop('season', axis=1)\n",
    "\n",
    "\n",
    "for mnth in df.mnth.unique():\n",
    "    df['mnth_'+str(mnth)] = (df['mnth']==mnth)\n",
    "    \n",
    "df = df.drop('mnth', axis=1)\n",
    "\n",
    "\n",
    "for weekday in df.weekday.unique():\n",
    "    df['weekday_'+str(weekday)] = (df['weekday']== weekday)\n",
    "    \n",
    "df = df.drop('weekday', axis = 1)\n",
    "\n",
    "\n",
    "for weathersit in df.weathersit.unique():\n",
    "    df['weathersit_'+str(weathersit)] = (df['weathersit']== weathersit)\n",
    "    \n",
    "df = df.drop('weathersit', axis=1)\n",
    "\n",
    "\n",
    "for hr in df.hr.unique():\n",
    "    df['hr_'+str(hr)] = (df['hr'] == hr)\n",
    "    \n",
    "df = df.drop('hr', axis = 1)\n",
    "\n",
    "df['outcome'] = df['cnt']\n",
    "df['casual_users'] = df['casual']\n",
    "df['registered_users'] = df['registered']\n",
    "df = df.drop(['cnt', 'casual', 'registered'], axis = 1)"
   ]
  },
  {
   "cell_type": "code",
   "execution_count": 36,
   "metadata": {},
   "outputs": [
    {
     "name": "stdout",
     "output_type": "stream",
     "text": [
      "                            OLS Regression Results                            \n",
      "==============================================================================\n",
      "Dep. Variable:                outcome   R-squared:                       0.685\n",
      "Model:                            OLS   Adj. R-squared:                  0.685\n",
      "Method:                 Least Squares   F-statistic:                     755.3\n",
      "Date:                Sat, 19 May 2018   Prob (F-statistic):               0.00\n",
      "Time:                        15:53:11   Log-Likelihood:            -1.0499e+05\n",
      "No. Observations:               17379   AIC:                         2.101e+05\n",
      "Df Residuals:                   17328   BIC:                         2.105e+05\n",
      "Df Model:                          50                                         \n",
      "Covariance Type:            nonrobust                                         \n",
      "========================================================================================\n",
      "                           coef    std err          t      P>|t|      [0.025      0.975]\n",
      "----------------------------------------------------------------------------------------\n",
      "weekday_0[False]      1.213e+14   1.22e+14      0.995      0.320   -1.18e+14     3.6e+14\n",
      "weekday_0[True]       3.469e+13   3.49e+13      0.995      0.320   -3.36e+13    1.03e+14\n",
      "weekday_1[T.True]    -8.658e+13    8.7e+13     -0.995      0.320   -2.57e+14     8.4e+13\n",
      "weekday_2[T.True]    -8.658e+13    8.7e+13     -0.995      0.320   -2.57e+14     8.4e+13\n",
      "weekday_3[T.True]    -8.658e+13    8.7e+13     -0.995      0.320   -2.57e+14     8.4e+13\n",
      "weekday_4[T.True]    -8.658e+13    8.7e+13     -0.995      0.320   -2.57e+14     8.4e+13\n",
      "weekday_5[T.True]    -8.658e+13    8.7e+13     -0.995      0.320   -2.57e+14     8.4e+13\n",
      "weekday_6[T.True]    -8.658e+13    8.7e+13     -0.995      0.320   -2.57e+14     8.4e+13\n",
      "weathersit_1[T.True] -7.001e+13   7.04e+13     -0.995      0.320   -2.08e+14    6.79e+13\n",
      "weathersit_2[T.True] -7.001e+13   7.04e+13     -0.995      0.320   -2.08e+14    6.79e+13\n",
      "weathersit_3[T.True] -7.001e+13   7.04e+13     -0.995      0.320   -2.08e+14    6.79e+13\n",
      "weathersit_4[T.True] -7.001e+13   7.04e+13     -0.995      0.320   -2.08e+14    6.79e+13\n",
      "season_1[T.True]      1.206e+13   1.21e+13      0.995      0.320   -1.17e+13    3.58e+13\n",
      "season_2[T.True]      1.206e+13   1.21e+13      0.995      0.320   -1.17e+13    3.58e+13\n",
      "season_3[T.True]      1.206e+13   1.21e+13      0.995      0.320   -1.17e+13    3.58e+13\n",
      "season_4[T.True]      1.206e+13   1.21e+13      0.995      0.320   -1.17e+13    3.58e+13\n",
      "mnth_1[T.True]        8.806e+12   8.85e+12      0.995      0.320   -8.54e+12    2.62e+13\n",
      "mnth_2[T.True]        8.806e+12   8.85e+12      0.995      0.320   -8.54e+12    2.62e+13\n",
      "mnth_3[T.True]        8.806e+12   8.85e+12      0.995      0.320   -8.54e+12    2.62e+13\n",
      "mnth_4[T.True]        8.806e+12   8.85e+12      0.995      0.320   -8.54e+12    2.62e+13\n",
      "mnth_5[T.True]        8.806e+12   8.85e+12      0.995      0.320   -8.54e+12    2.62e+13\n",
      "mnth_6[T.True]        8.806e+12   8.85e+12      0.995      0.320   -8.54e+12    2.62e+13\n",
      "mnth_7[T.True]        8.806e+12   8.85e+12      0.995      0.320   -8.54e+12    2.62e+13\n",
      "mnth_8[T.True]        8.806e+12   8.85e+12      0.995      0.320   -8.54e+12    2.62e+13\n",
      "mnth_9[T.True]        8.806e+12   8.85e+12      0.995      0.320   -8.54e+12    2.62e+13\n",
      "mnth_10[T.True]       8.806e+12   8.85e+12      0.995      0.320   -8.54e+12    2.62e+13\n",
      "mnth_11[T.True]       8.806e+12   8.85e+12      0.995      0.320   -8.54e+12    2.62e+13\n",
      "mnth_12[T.True]       8.806e+12   8.85e+12      0.995      0.320   -8.54e+12    2.62e+13\n",
      "hr_0[T.True]          1.445e+13   1.45e+13      0.995      0.320    -1.4e+13    4.29e+13\n",
      "hr_1[T.True]          1.445e+13   1.45e+13      0.995      0.320    -1.4e+13    4.29e+13\n",
      "hr_2[T.True]          1.445e+13   1.45e+13      0.995      0.320    -1.4e+13    4.29e+13\n",
      "hr_3[T.True]          1.445e+13   1.45e+13      0.995      0.320    -1.4e+13    4.29e+13\n",
      "hr_4[T.True]          1.445e+13   1.45e+13      0.995      0.320    -1.4e+13    4.29e+13\n",
      "hr_5[T.True]          1.445e+13   1.45e+13      0.995      0.320    -1.4e+13    4.29e+13\n",
      "hr_6[T.True]          1.445e+13   1.45e+13      0.995      0.320    -1.4e+13    4.29e+13\n",
      "hr_7[T.True]          1.445e+13   1.45e+13      0.995      0.320    -1.4e+13    4.29e+13\n",
      "hr_8[T.True]          1.445e+13   1.45e+13      0.995      0.320    -1.4e+13    4.29e+13\n",
      "hr_9[T.True]          1.445e+13   1.45e+13      0.995      0.320    -1.4e+13    4.29e+13\n",
      "hr_10[T.True]         1.445e+13   1.45e+13      0.995      0.320    -1.4e+13    4.29e+13\n",
      "hr_11[T.True]         1.445e+13   1.45e+13      0.995      0.320    -1.4e+13    4.29e+13\n",
      "hr_12[T.True]         1.445e+13   1.45e+13      0.995      0.320    -1.4e+13    4.29e+13\n",
      "hr_13[T.True]         1.445e+13   1.45e+13      0.995      0.320    -1.4e+13    4.29e+13\n",
      "hr_14[T.True]         1.445e+13   1.45e+13      0.995      0.320    -1.4e+13    4.29e+13\n",
      "hr_15[T.True]         1.445e+13   1.45e+13      0.995      0.320    -1.4e+13    4.29e+13\n",
      "hr_16[T.True]         1.445e+13   1.45e+13      0.995      0.320    -1.4e+13    4.29e+13\n",
      "hr_17[T.True]         1.445e+13   1.45e+13      0.995      0.320    -1.4e+13    4.29e+13\n",
      "hr_18[T.True]         1.445e+13   1.45e+13      0.995      0.320    -1.4e+13    4.29e+13\n",
      "hr_19[T.True]         1.445e+13   1.45e+13      0.995      0.320    -1.4e+13    4.29e+13\n",
      "hr_20[T.True]         1.445e+13   1.45e+13      0.995      0.320    -1.4e+13    4.29e+13\n",
      "hr_21[T.True]         1.445e+13   1.45e+13      0.995      0.320    -1.4e+13    4.29e+13\n",
      "hr_22[T.True]         1.445e+13   1.45e+13      0.995      0.320    -1.4e+13    4.29e+13\n",
      "hr_23[T.True]         1.445e+13   1.45e+13      0.995      0.320    -1.4e+13    4.29e+13\n",
      "temp                   230.9187      9.402     24.562      0.000     212.491     249.347\n",
      "windspeed              -36.1784      6.851     -5.280      0.000     -49.608     -22.749\n",
      "hum                    -81.0002      5.550    -14.595      0.000     -91.879     -70.122\n",
      "yr                      85.3630      1.565     54.538      0.000      82.295      88.431\n",
      "==============================================================================\n",
      "Omnibus:                     1102.064   Durbin-Watson:                   0.504\n",
      "Prob(Omnibus):                  0.000   Jarque-Bera (JB):             2292.398\n",
      "Skew:                           0.435   Prob(JB):                         0.00\n",
      "Kurtosis:                       4.552   Cond. No.                     9.62e+15\n",
      "==============================================================================\n",
      "\n",
      "Warnings:\n",
      "[1] Standard Errors assume that the covariance matrix of the errors is correctly specified.\n",
      "[2] The smallest eigenvalue is 5.19e-28. This might indicate that there are\n",
      "strong multicollinearity problems or that the design matrix is singular.\n"
     ]
    }
   ],
   "source": [
    "m = ols('outcome ~ temp + windspeed + hum + yr + weekday_0 + weekday_1 + weekday_2 + weekday_3 + weekday_4 + weekday_5 + weekday_6 +  weathersit_1 + weathersit_2 + weathersit_3 +  weathersit_4 + season_1  + season_2  + season_3  + season_4 + mnth_1 + mnth_2 + mnth_3  +  mnth_4 + mnth_5 + mnth_6 + mnth_7 + mnth_8  + mnth_9 + mnth_10 + mnth_11 + mnth_12 + hr_0 + hr_1 + hr_2 + hr_3 + hr_4 + hr_5 + hr_6 + hr_7 + hr_8 + hr_9 + hr_10 + hr_11 + hr_12 + hr_13 + hr_14 + hr_15 + hr_16 + hr_17 + hr_18 + hr_19 + hr_20 + hr_21 + hr_22 + hr_23 - 1',df).fit()\n",
    "\n",
    "print(m.summary())"
   ]
  },
  {
   "cell_type": "code",
   "execution_count": 23,
   "metadata": {},
   "outputs": [
    {
     "data": {
      "text/plain": [
       "0.68622361377482033"
      ]
     },
     "execution_count": 23,
     "metadata": {},
     "output_type": "execute_result"
    }
   ],
   "source": [
    "lr = LinearRegression()\n",
    "grid =GridSearchCV(lr, {}, cv=32 )\n",
    "grid.fit(df.iloc[:, 1:-3], df['outcome'])\n",
    "y_pred = grid.predict(df.iloc[:, 1:-3])\n",
    "explained_variance_score(df.outcome, y_pred)"
   ]
  },
  {
   "cell_type": "code",
   "execution_count": 34,
   "metadata": {},
   "outputs": [
    {
     "data": {
      "text/plain": [
       "yr                  0.250495\n",
       "holiday             0.030927\n",
       "workingday          0.030284\n",
       "temp                0.404772\n",
       "atemp               0.400929\n",
       "hum                 0.322911\n",
       "windspeed           0.093234\n",
       "season_1            0.245456\n",
       "season_2            0.060692\n",
       "season_3            0.151621\n",
       "season_4            0.029421\n",
       "mnth_1              0.156834\n",
       "mnth_2              0.122113\n",
       "mnth_3              0.057131\n",
       "mnth_4              0.003645\n",
       "mnth_5              0.056422\n",
       "mnth_6              0.084600\n",
       "mnth_7              0.071459\n",
       "mnth_8              0.081657\n",
       "mnth_9              0.084931\n",
       "mnth_10             0.054406\n",
       "mnth_11             0.020074\n",
       "mnth_12             0.079415\n",
       "weekday_6           0.001692\n",
       "weekday_0           0.027118\n",
       "weekday_1           0.012860\n",
       "weekday_2           0.003969\n",
       "weekday_3           0.003746\n",
       "weekday_4           0.015653\n",
       "weekday_5           0.015034\n",
       "                      ...   \n",
       "weathersit_2        0.046902\n",
       "weathersit_3        0.128034\n",
       "weathersit_4        0.008340\n",
       "hr_0                0.156054\n",
       "hr_1                0.179420\n",
       "hr_2                0.190250\n",
       "hr_3                0.200296\n",
       "hr_4                0.206352\n",
       "hr_5                0.193936\n",
       "hr_6                0.130467\n",
       "hr_7                0.026036\n",
       "hr_8                0.195313\n",
       "hr_9                0.034382\n",
       "hr_10               0.018195\n",
       "hr_11               0.021519\n",
       "hr_12               0.073609\n",
       "hr_13               0.074060\n",
       "hr_14               0.059395\n",
       "hr_15               0.071259\n",
       "hr_16               0.141443\n",
       "hr_17               0.313996\n",
       "hr_18               0.272114\n",
       "hr_19               0.140710\n",
       "hr_20               0.042154\n",
       "hr_21               0.019769\n",
       "hr_22               0.067009\n",
       "hr_23               0.117160\n",
       "outcome             1.000000\n",
       "casual_users        0.694564\n",
       "registered_users    0.972151\n",
       "Name: outcome, Length: 61, dtype: float64"
      ]
     },
     "execution_count": 34,
     "metadata": {},
     "output_type": "execute_result"
    }
   ],
   "source": [
    "np.absolute(df.corr().outcome)"
   ]
  },
  {
   "cell_type": "code",
   "execution_count": null,
   "metadata": {
    "collapsed": true
   },
   "outputs": [],
   "source": [
    "m = ols('np.log(outcome) ~ temp + atemp + windspeed + hum + yr + weekday_0 + weekday_1 + weekday_2 + weekday_3 + weekday_4 + weekday_5 + weekday_6 +  weathersit_1 + weathersit_2 + weathersit_3 +  weathersit_4 + season_1  + season_2  + season_3  + season_4 + mnth_1 + mnth_2 + mnth_3  +  mnth_4 + mnth_5 + mnth_6 + mnth_7 + mnth_8  + mnth_9 + mnth_10 + mnth_11 + mnth_12 + hr_0 + hr_1 + hr_2 + hr_3 + hr_4 + hr_5 + hr_6 + hr_7 + hr_8 + hr_9 + hr_10 + hr_11 + hr_12 + hr_13 + hr_14 + hr_15 + hr_16 + hr_17 + hr_18 + hr_19 + hr_20 + hr_21 + hr_22 + hr_23 - 1',df).fit()\n",
    "\n",
    "print(m.summary())"
   ]
  }
 ],
 "metadata": {
  "kernelspec": {
   "display_name": "Python 3",
   "language": "python",
   "name": "python3"
  },
  "language_info": {
   "codemirror_mode": {
    "name": "ipython",
    "version": 3
   },
   "file_extension": ".py",
   "mimetype": "text/x-python",
   "name": "python",
   "nbconvert_exporter": "python",
   "pygments_lexer": "ipython3",
   "version": "3.6.3"
  }
 },
 "nbformat": 4,
 "nbformat_minor": 2
}
